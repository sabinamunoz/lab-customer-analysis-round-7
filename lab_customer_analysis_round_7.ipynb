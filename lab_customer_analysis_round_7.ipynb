{
  "nbformat": 4,
  "nbformat_minor": 0,
  "metadata": {
    "colab": {
      "provenance": [],
      "mount_file_id": "1iTrqS4u6Oq2K7s3tKcxR0XwqnicXjYKS",
      "authorship_tag": "ABX9TyOJagCXxof1z5KDY6tikYQ3",
      "include_colab_link": true
    },
    "kernelspec": {
      "name": "python3",
      "display_name": "Python 3"
    },
    "language_info": {
      "name": "python"
    }
  },
  "cells": [
    {
      "cell_type": "markdown",
      "metadata": {
        "id": "view-in-github",
        "colab_type": "text"
      },
      "source": [
        "<a href=\"https://colab.research.google.com/github/sabinamunoz/lab-customer-analysis-round-7/blob/master/lab_customer_analysis_round_7.ipynb\" target=\"_parent\"><img src=\"https://colab.research.google.com/assets/colab-badge.svg\" alt=\"Open In Colab\"/></a>"
      ]
    },
    {
      "cell_type": "markdown",
      "source": [
        "###**Processing Data**\n",
        "\n",
        "1. Train-test split.: X-y split.\n",
        "\n",
        "2. Feature scaling - Normalize (numerical).\n",
        "\n"
      ],
      "metadata": {
        "id": "qlSdIfnp7rzI"
      }
    },
    {
      "cell_type": "code",
      "execution_count": 5,
      "metadata": {
        "id": "W46yJ-hRUClw"
      },
      "outputs": [],
      "source": [
        "import numpy as np\n",
        "import pandas as pd\n",
        "\n",
        "import seaborn as sns\n",
        "import seaborn.objects as so\n",
        "\n",
        "from scipy import stats\n",
        "import matplotlib as mpl\n",
        "import matplotlib.pyplot as plt\n",
        "from sklearn.linear_model import LinearRegression\n",
        "from sklearn.model_selection import train_test_split\n",
        "from sklearn.preprocessing import OneHotEncoder, Normalizer, StandardScaler, MinMaxScaler\n",
        "from sklearn.metrics import mean_squared_error, r2_score, mean_absolute_error\n",
        "\n",
        "\n"
      ]
    },
    {
      "cell_type": "code",
      "source": [
        "from google.colab import drive"
      ],
      "metadata": {
        "id": "IuryeTj5Ubxm"
      },
      "execution_count": 6,
      "outputs": []
    },
    {
      "cell_type": "code",
      "source": [
        "drive.mount('/content/drive')"
      ],
      "metadata": {
        "colab": {
          "base_uri": "https://localhost:8080/"
        },
        "id": "scjM1ZTOUeea",
        "outputId": "581905fc-9658-4fe1-dce4-b301f2b6d642"
      },
      "execution_count": 7,
      "outputs": [
        {
          "output_type": "stream",
          "name": "stdout",
          "text": [
            "Mounted at /content/drive\n"
          ]
        }
      ]
    },
    {
      "cell_type": "code",
      "source": [
        "data = pd.read_csv('/content/drive/MyDrive/IronHack Bootcamp/UNIT1/LABS/LAB7/marketing_customer_analysis.csv', sep=',').reset_index(drop=True)"
      ],
      "metadata": {
        "id": "P4IVIb7NVCIN"
      },
      "execution_count": 8,
      "outputs": []
    },
    {
      "cell_type": "code",
      "source": [
        "data.columns = [column.lower().replace(' ', '_') for column in data.columns]"
      ],
      "metadata": {
        "id": "3zWZuE0Pzmzu"
      },
      "execution_count": 9,
      "outputs": []
    },
    {
      "cell_type": "markdown",
      "source": [
        "###**Lab | Customer Analysis Round 7**"
      ],
      "metadata": {
        "id": "xlpy9B_NKEp4"
      }
    },
    {
      "cell_type": "code",
      "source": [
        "data = data.drop([\"customer\", 'effective_to_date'], axis=1)\n",
        "\n",
        "std_scaler = StandardScaler()\n",
        "mm_scaler = MinMaxScaler()\n",
        "norm_scaler = Normalizer()"
      ],
      "metadata": {
        "id": "TFfqLkkcRREN"
      },
      "execution_count": 10,
      "outputs": []
    },
    {
      "cell_type": "code",
      "source": [
        "df = data.copy()\n",
        "df = pd.get_dummies(df1)"
      ],
      "metadata": {
        "id": "QpNMQ5hvRU-1"
      },
      "execution_count": 12,
      "outputs": []
    },
    {
      "cell_type": "code",
      "source": [
        "x = df.drop(['total_claim_amount'], axis=1)\n",
        "y = df[\"total_claim_amount\"]\n",
        "x_train, x_test, y_train, y_test = train_test_split(x, y, test_size=0.3, random_state=42)"
      ],
      "metadata": {
        "id": "yTKv9AzSRln-"
      },
      "execution_count": 13,
      "outputs": []
    },
    {
      "cell_type": "markdown",
      "source": [
        "### Metrics using standard scaler:\n",
        "\n",
        "R2_score: 0.76\n",
        "\n",
        "MSE: 19192.764741345458\n",
        "\n",
        "RMSE: 138.5379541546123\n",
        "\n",
        "MAE: 94.46269555159455"
      ],
      "metadata": {
        "id": "FDzR5X5tT-tb"
      }
    },
    {
      "cell_type": "code",
      "source": [
        "std_scaler.fit(x_train)\n",
        "x_train_std = std_scaler.transform(x_train)\n",
        "x_test_std = std_scaler.transform(x_test)\n",
        "\n",
        "lm = LinearRegression()\n",
        "lm.fit(x_train_std, y_train)\n",
        "predictions = lm.predict(x_test_std)\n",
        "\n",
        "mse = mean_squared_error(y_test, predictions)\n",
        "rmse = mean_squared_error(y_test, predictions, squared=False)\n",
        "mae = mean_absolute_error(y_test, predictions)\n",
        "print(\"R2_score:\", round(r2_score(y_test, predictions), 2))\n",
        "print(\"MSE:\", mse)\n",
        "print(\"RMSE:\", rmse)\n",
        "print(\"MAE:\", mae)\n",
        "sns.regplot(x=y_test, y=predictions)"
      ],
      "metadata": {
        "colab": {
          "base_uri": "https://localhost:8080/",
          "height": 542
        },
        "id": "ez3Nug_rUIAI",
        "outputId": "0618f5a1-60d8-4719-e891-e6bf7d69595a"
      },
      "execution_count": 14,
      "outputs": [
        {
          "output_type": "stream",
          "name": "stdout",
          "text": [
            "R2_score: 0.76\n",
            "MSE: 19311.38311795267\n",
            "RMSE: 138.96540259342493\n",
            "MAE: 94.83525319455654\n"
          ]
        },
        {
          "output_type": "execute_result",
          "data": {
            "text/plain": [
              "<Axes: xlabel='total_claim_amount'>"
            ]
          },
          "metadata": {},
          "execution_count": 14
        },
        {
          "output_type": "display_data",
          "data": {
            "text/plain": [
              "<Figure size 640x480 with 1 Axes>"
            ],
            "image/png": "[encoded data removed]"
          },
          "metadata": {}
        }
      ]
    },
    {
      "cell_type": "markdown",
      "source": [
        "### Metrics using minmax scaler\n",
        "\n",
        "R2_score: 0.76\n",
        "\n",
        "MSE: 19249.71309638138\n",
        "\n",
        "RMSE: 138.7433353223908\n",
        "\n",
        "MAE: 94.63025533090114"
      ],
      "metadata": {
        "id": "kUmMCWF8U37T"
      }
    },
    {
      "cell_type": "code",
      "source": [
        "mm_scaler.fit(x_train)\n",
        "x_train_mm = mm_scaler.transform(x_train)\n",
        "x_test_mm = mm_scaler.transform(x_test)\n",
        "\n",
        "lm = LinearRegression()\n",
        "lm.fit(x_train_mm, y_train)\n",
        "predictions = lm.predict(x_test_mm)\n",
        "\n",
        "mse = mean_squared_error(y_test, predictions)\n",
        "rmse = mean_squared_error(y_test, predictions, squared=False)\n",
        "mae = mean_absolute_error(y_test, predictions)\n",
        "print(\"R2_score:\", round(r2_score(y_test, predictions), 2))\n",
        "print(\"MSE:\", mse)\n",
        "print(\"RMSE:\", rmse)\n",
        "print(\"MAE:\", mae)"
      ],
      "metadata": {
        "colab": {
          "base_uri": "https://localhost:8080/"
        },
        "id": "dM756PQlU722",
        "outputId": "8f8ace35-a59d-4e5c-8ad4-60e27b740a13"
      },
      "execution_count": 15,
      "outputs": [
        {
          "output_type": "stream",
          "name": "stdout",
          "text": [
            "R2_score: 0.76\n",
            "MSE: 19243.073236429536\n",
            "RMSE: 138.71940468596864\n",
            "MAE: 94.35911578329078\n"
          ]
        }
      ]
    },
    {
      "cell_type": "markdown",
      "source": [
        "### Metrics using normalizer scaler\n",
        "\n",
        "R2_score: 0.48\n",
        "\n",
        "MSE: 42530.759519251274\n",
        "\n",
        "RMSE: 206.22987057953384\n",
        "\n",
        "MAE: 145.36195346256565\n",
        "\n"
      ],
      "metadata": {
        "id": "udR0OC9jVLME"
      }
    },
    {
      "cell_type": "code",
      "source": [
        "norm_scaler.fit(x_train)\n",
        "x_train_norm = norm_scaler.transform(x_train)\n",
        "x_test_norm = norm_scaler.transform(x_test)\n",
        "\n",
        "lm = LinearRegression()\n",
        "lm.fit(x_train_norm, y_train)\n",
        "predictions = lm.predict(x_test_norm)\n",
        "\n",
        "mse = mean_squared_error(y_test, predictions)\n",
        "rmse = mean_squared_error(y_test, predictions, squared=False)\n",
        "mae = mean_absolute_error(y_test, predictions)\n",
        "print(\"R2_score:\", round(r2_score(y_test, predictions), 2))\n",
        "print(\"MSE:\", mse)\n",
        "print(\"RMSE:\", rmse)\n",
        "print(\"MAE:\", mae)"
      ],
      "metadata": {
        "colab": {
          "base_uri": "https://localhost:8080/"
        },
        "id": "0WAsd94xVNuz",
        "outputId": "bdb8af27-3ccb-4424-8cb5-4b36793af04d"
      },
      "execution_count": 16,
      "outputs": [
        {
          "output_type": "stream",
          "name": "stdout",
          "text": [
            "R2_score: 0.48\n",
            "MSE: 42530.75951925129\n",
            "RMSE: 206.22987057953387\n",
            "MAE: 145.36195346256585\n"
          ]
        }
      ]
    },
    {
      "cell_type": "markdown",
      "source": [
        "### Using standard scaler on X: Applying log scaling to target to improve R2 score\n",
        "original R2_score: 0.76\n",
        "\n",
        "new R2_score: 0.73\n"
      ],
      "metadata": {
        "id": "wxF4kdlgVh4u"
      }
    },
    {
      "cell_type": "code",
      "source": [
        "y_train_log = y_train.apply(lambda x: np.log(x) if x > 0 else 0)\n",
        "y_test_log = y_test.apply(lambda x: np.log(x) if x > 0 else 0)\n",
        "\n",
        "lm = LinearRegression()\n",
        "lm.fit(x_train_std, y_train_log)\n",
        "predictions = lm.predict(x_test_std)\n",
        "\n",
        "print(\"R2_score:\", round(r2_score(y_test_log, predictions), 2))"
      ],
      "metadata": {
        "colab": {
          "base_uri": "https://localhost:8080/"
        },
        "id": "agavgbBaVnP7",
        "outputId": "460cdff4-578e-47ce-d822-fa90ee7c7ab6"
      },
      "execution_count": 17,
      "outputs": [
        {
          "output_type": "stream",
          "name": "stdout",
          "text": [
            "R2_score: 0.72\n"
          ]
        }
      ]
    },
    {
      "cell_type": "markdown",
      "source": [
        "### Outliers removed"
      ],
      "metadata": {
        "id": "hJgjr267VqWe"
      }
    },
    {
      "cell_type": "code",
      "source": [
        "Q3 = np.quantile(df1[\"total_claim_amount\"], 0.75)\n",
        "Q1 = np.quantile(df1[\"total_claim_amount\"], 0.25)\n",
        "IQR = Q3 - Q1\n",
        "upper_range = Q3 + 1.5 * IQR\n",
        "\n",
        "df1_no = df1[df1[\"total_claim_amount\"] < upper_range]"
      ],
      "metadata": {
        "id": "bqIaUBDBVxqh"
      },
      "execution_count": 18,
      "outputs": []
    }
  ]
}